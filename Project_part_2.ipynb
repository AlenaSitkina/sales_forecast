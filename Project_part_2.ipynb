{
 "cells": [
  {
   "cell_type": "code",
   "execution_count": 1,
   "id": "52f2202a",
   "metadata": {},
   "outputs": [],
   "source": [
    "# Импортируем необходимые библиотеки\n",
    "import pandas as pd\n",
    "import numpy as np\n",
    "import matplotlib.pyplot as plt\n",
    "import warnings\n",
    "\n",
    "\n",
    "warnings.filterwarnings(\"ignore\", category=UserWarning)"
   ]
  },
  {
   "cell_type": "code",
   "execution_count": 2,
   "id": "1201eeab",
   "metadata": {},
   "outputs": [],
   "source": [
    "# Считаем данные\n",
    "df = pd.read_csv(r'data.csv')"
   ]
  },
  {
   "cell_type": "code",
   "execution_count": 3,
   "id": "ca70cffe",
   "metadata": {},
   "outputs": [
    {
     "data": {
      "text/html": [
       "<div>\n",
       "<style scoped>\n",
       "    .dataframe tbody tr th:only-of-type {\n",
       "        vertical-align: middle;\n",
       "    }\n",
       "\n",
       "    .dataframe tbody tr th {\n",
       "        vertical-align: top;\n",
       "    }\n",
       "\n",
       "    .dataframe thead th {\n",
       "        text-align: right;\n",
       "    }\n",
       "</style>\n",
       "<table border=\"1\" class=\"dataframe\">\n",
       "  <thead>\n",
       "    <tr style=\"text-align: right;\">\n",
       "      <th></th>\n",
       "      <th>name</th>\n",
       "      <th>quantity</th>\n",
       "      <th>price</th>\n",
       "      <th>day</th>\n",
       "      <th>bread</th>\n",
       "      <th>hotcake</th>\n",
       "      <th>milk_or_sour_milk</th>\n",
       "      <th>cheese_cottage_cheese</th>\n",
       "      <th>others</th>\n",
       "      <th>week_day_0</th>\n",
       "      <th>week_day_1</th>\n",
       "      <th>week_day_2</th>\n",
       "      <th>week_day_3</th>\n",
       "      <th>week_day_4</th>\n",
       "    </tr>\n",
       "  </thead>\n",
       "  <tbody>\n",
       "    <tr>\n",
       "      <th>0</th>\n",
       "      <td>Ацидофилин 2,7% 200г.ВМК БЗМЖ</td>\n",
       "      <td>4.0</td>\n",
       "      <td>2.46</td>\n",
       "      <td>2</td>\n",
       "      <td>0</td>\n",
       "      <td>0</td>\n",
       "      <td>1</td>\n",
       "      <td>0</td>\n",
       "      <td>0</td>\n",
       "      <td>1</td>\n",
       "      <td>0</td>\n",
       "      <td>0</td>\n",
       "      <td>0</td>\n",
       "      <td>0</td>\n",
       "    </tr>\n",
       "    <tr>\n",
       "      <th>1</th>\n",
       "      <td>Батон ГОРЧИЧНЫЙ 300 г. Хлебозавод №1 +</td>\n",
       "      <td>21.0</td>\n",
       "      <td>3.88</td>\n",
       "      <td>2</td>\n",
       "      <td>1</td>\n",
       "      <td>0</td>\n",
       "      <td>0</td>\n",
       "      <td>0</td>\n",
       "      <td>0</td>\n",
       "      <td>1</td>\n",
       "      <td>0</td>\n",
       "      <td>0</td>\n",
       "      <td>0</td>\n",
       "      <td>0</td>\n",
       "    </tr>\n",
       "    <tr>\n",
       "      <th>2</th>\n",
       "      <td>Батон Луковый 300г.Орион</td>\n",
       "      <td>2.0</td>\n",
       "      <td>5.96</td>\n",
       "      <td>2</td>\n",
       "      <td>1</td>\n",
       "      <td>0</td>\n",
       "      <td>0</td>\n",
       "      <td>0</td>\n",
       "      <td>0</td>\n",
       "      <td>1</td>\n",
       "      <td>0</td>\n",
       "      <td>0</td>\n",
       "      <td>0</td>\n",
       "      <td>0</td>\n",
       "    </tr>\n",
       "    <tr>\n",
       "      <th>3</th>\n",
       "      <td>Батон НАРЕЗНОЙ 400 г. Хлебозавод №1 +</td>\n",
       "      <td>41.0</td>\n",
       "      <td>4.70</td>\n",
       "      <td>2</td>\n",
       "      <td>1</td>\n",
       "      <td>0</td>\n",
       "      <td>0</td>\n",
       "      <td>0</td>\n",
       "      <td>0</td>\n",
       "      <td>1</td>\n",
       "      <td>0</td>\n",
       "      <td>0</td>\n",
       "      <td>0</td>\n",
       "      <td>0</td>\n",
       "    </tr>\n",
       "    <tr>\n",
       "      <th>4</th>\n",
       "      <td>Батон Нарезной 400г.Переславский х-д.</td>\n",
       "      <td>5.0</td>\n",
       "      <td>7.70</td>\n",
       "      <td>2</td>\n",
       "      <td>1</td>\n",
       "      <td>0</td>\n",
       "      <td>0</td>\n",
       "      <td>0</td>\n",
       "      <td>0</td>\n",
       "      <td>1</td>\n",
       "      <td>0</td>\n",
       "      <td>0</td>\n",
       "      <td>0</td>\n",
       "      <td>0</td>\n",
       "    </tr>\n",
       "  </tbody>\n",
       "</table>\n",
       "</div>"
      ],
      "text/plain": [
       "                                     name  quantity  price  day  bread  \\\n",
       "0           Ацидофилин 2,7% 200г.ВМК БЗМЖ       4.0   2.46    2      0   \n",
       "1  Батон ГОРЧИЧНЫЙ 300 г. Хлебозавод №1 +      21.0   3.88    2      1   \n",
       "2                Батон Луковый 300г.Орион       2.0   5.96    2      1   \n",
       "3   Батон НАРЕЗНОЙ 400 г. Хлебозавод №1 +      41.0   4.70    2      1   \n",
       "4   Батон Нарезной 400г.Переславский х-д.       5.0   7.70    2      1   \n",
       "\n",
       "   hotcake  milk_or_sour_milk  cheese_cottage_cheese  others  week_day_0  \\\n",
       "0        0                  1                      0       0           1   \n",
       "1        0                  0                      0       0           1   \n",
       "2        0                  0                      0       0           1   \n",
       "3        0                  0                      0       0           1   \n",
       "4        0                  0                      0       0           1   \n",
       "\n",
       "   week_day_1  week_day_2  week_day_3  week_day_4  \n",
       "0           0           0           0           0  \n",
       "1           0           0           0           0  \n",
       "2           0           0           0           0  \n",
       "3           0           0           0           0  \n",
       "4           0           0           0           0  "
      ]
     },
     "execution_count": 3,
     "metadata": {},
     "output_type": "execute_result"
    }
   ],
   "source": [
    "df.head()"
   ]
  },
  {
   "cell_type": "code",
   "execution_count": 4,
   "id": "78628ec2",
   "metadata": {},
   "outputs": [],
   "source": [
    "# Разобьем выборку на обучающую и тестовую\n",
    "# Мы делаем это вручную, так как в датафрейме используется день недели как признак\n",
    "# (одна неделя идет в тестовую выборку, остальное - в обучающую)\n",
    "# Здесь же удаляем ненужные колонки\n",
    "train_df = df.query('day < 23').drop(['day', 'name'], axis=1)\n",
    "test_df = df.query('day >= 23').drop(['day', 'name'], axis=1)"
   ]
  },
  {
   "cell_type": "code",
   "execution_count": 5,
   "id": "81e72b29",
   "metadata": {},
   "outputs": [],
   "source": [
    "# Отделим целевую переменную\n",
    "X_train, y_train = train_df.drop('quantity', axis=1), train_df.quantity\n",
    "X_test, y_test = test_df.drop('quantity', axis=1), test_df.quantity"
   ]
  },
  {
   "cell_type": "code",
   "execution_count": 6,
   "id": "72e58fa2",
   "metadata": {},
   "outputs": [],
   "source": [
    "# Теперь мы можем перейти к обучению моделей"
   ]
  },
  {
   "cell_type": "code",
   "execution_count": 7,
   "id": "621af783",
   "metadata": {},
   "outputs": [],
   "source": [
    "# Импортируем необходимые инструменты\n",
    "# Также часть инстументов будет импортироваться далее\n",
    "from sklearn.metrics import mean_squared_error as mse, mean_absolute_error as mae\n",
    "from sklearn.model_selection import GridSearchCV\n",
    "from sklearn.preprocessing import StandardScaler"
   ]
  },
  {
   "cell_type": "code",
   "execution_count": 8,
   "id": "8409f7bf",
   "metadata": {},
   "outputs": [],
   "source": [
    "# Первой мы обучим линейную регрессию с разными её вариациями"
   ]
  },
  {
   "cell_type": "code",
   "execution_count": 9,
   "id": "f377596c",
   "metadata": {},
   "outputs": [],
   "source": [
    "from sklearn.linear_model import LinearRegression, Ridge, Lasso, ElasticNet"
   ]
  },
  {
   "cell_type": "code",
   "execution_count": 10,
   "id": "8351aa28",
   "metadata": {},
   "outputs": [],
   "source": [
    "# Обучение обычной линейной регрессии\n",
    "reg = LinearRegression().fit(X_train, y_train)"
   ]
  },
  {
   "cell_type": "code",
   "execution_count": 11,
   "id": "7be92a70",
   "metadata": {},
   "outputs": [
    {
     "name": "stdout",
     "output_type": "stream",
     "text": [
      "mse: 21.91779155646977\n",
      "mae: 2.6781852582607693\n"
     ]
    }
   ],
   "source": [
    "# Метрики качества модели\n",
    "print('mse:', mse(y_test, reg.predict(X_test)))\n",
    "print('mae:', mae(y_test, reg.predict(X_test)))"
   ]
  },
  {
   "cell_type": "code",
   "execution_count": 12,
   "id": "cd910354",
   "metadata": {},
   "outputs": [],
   "source": [
    "# Посмотрим, улучшится ли результат, если масштабировать признаки\n",
    "sc = StandardScaler()\n",
    "X_train_scaled = pd.DataFrame(sc.fit_transform(X_train), columns=X_train.columns, index=X_train.index)\n",
    "X_test_scaled = pd.DataFrame(sc.transform(X_test), columns=X_test.columns, index=X_test.index)"
   ]
  },
  {
   "cell_type": "code",
   "execution_count": 13,
   "id": "8bb164e4",
   "metadata": {},
   "outputs": [],
   "source": [
    "reg2 = LinearRegression().fit(X_train_scaled, y_train)"
   ]
  },
  {
   "cell_type": "code",
   "execution_count": 14,
   "id": "6aa1c52b",
   "metadata": {},
   "outputs": [
    {
     "name": "stdout",
     "output_type": "stream",
     "text": [
      "mse: 22.132034816033652\n",
      "mae: 2.7425151877595053\n"
     ]
    }
   ],
   "source": [
    "print('mse:', mse(y_test, reg2.predict(X_test_scaled)))\n",
    "print('mae:', mae(y_test, reg2.predict(X_test_scaled)))"
   ]
  },
  {
   "cell_type": "code",
   "execution_count": 15,
   "id": "d35424ab",
   "metadata": {},
   "outputs": [
    {
     "data": {
      "text/plain": [
       "{'alpha': 34}"
      ]
     },
     "execution_count": 15,
     "metadata": {},
     "output_type": "execute_result"
    }
   ],
   "source": [
    "# Посмотрим, улучшится ли результат, если мы добавим регуляризацию\n",
    "ridge = GridSearchCV(\n",
    "    Ridge(),\n",
    "    param_grid={'alpha': [i for i in range (1, 200)]}\n",
    ")\n",
    "ridge.fit(X_train, y_train)\n",
    "ridge.best_params_"
   ]
  },
  {
   "cell_type": "code",
   "execution_count": 16,
   "id": "040bbb3d",
   "metadata": {},
   "outputs": [
    {
     "name": "stdout",
     "output_type": "stream",
     "text": [
      "mse: 21.868158995924603\n",
      "mae: 2.671261623395296\n"
     ]
    }
   ],
   "source": [
    "print('mse:', mse(y_test, ridge.predict(X_test)))\n",
    "print('mae:', mae(y_test, ridge.predict(X_test)))"
   ]
  },
  {
   "cell_type": "code",
   "execution_count": 17,
   "id": "5573ccf0",
   "metadata": {},
   "outputs": [
    {
     "data": {
      "text/plain": [
       "{'alpha': 3}"
      ]
     },
     "execution_count": 17,
     "metadata": {},
     "output_type": "execute_result"
    }
   ],
   "source": [
    "# Посмотрим, улучшится ли результат, если мы будем использовать L1 норму (Lasso)\n",
    "l=[i for i in range (1, 200)]\n",
    "lasso = GridSearchCV(\n",
    "    Lasso(),\n",
    "    param_grid={'alpha': l}\n",
    ")\n",
    "lasso.fit(X_train, y_train)\n",
    "lasso.best_params_"
   ]
  },
  {
   "cell_type": "code",
   "execution_count": 18,
   "id": "8fbe09bc",
   "metadata": {},
   "outputs": [
    {
     "name": "stdout",
     "output_type": "stream",
     "text": [
      "mse: 22.56229605365303\n",
      "mae: 2.694127261776902\n"
     ]
    }
   ],
   "source": [
    "print('mse:', mse(y_test, lasso.predict(X_test)))\n",
    "print('mae:', mae(y_test, lasso.predict(X_test)))"
   ]
  },
  {
   "cell_type": "code",
   "execution_count": 19,
   "id": "1985ef3a",
   "metadata": {},
   "outputs": [
    {
     "data": {
      "text/plain": [
       "{'alpha': 1, 'l1_ratio': 0.1}"
      ]
     },
     "execution_count": 19,
     "metadata": {},
     "output_type": "execute_result"
    }
   ],
   "source": [
    "# Попробуем совместить L1-норму и L2-норму (используем ElasticNet)\n",
    "l_1=[i for i in range (1, 50)]\n",
    "l_2=[0.1, 0.2, 0.3, 0.4, 0.5, 0.6, 0.7, 0.8, 0.9, 1]\n",
    "el_net = GridSearchCV(\n",
    "    ElasticNet(),\n",
    "    param_grid={'alpha': l_1, 'l1_ratio': l_2}\n",
    ")\n",
    "el_net.fit(X_train, y_train)\n",
    "el_net.best_params_"
   ]
  },
  {
   "cell_type": "code",
   "execution_count": 20,
   "id": "9b659456",
   "metadata": {},
   "outputs": [
    {
     "name": "stdout",
     "output_type": "stream",
     "text": [
      "mse: 22.421067538909234\n",
      "mae: 2.7100039005587533\n"
     ]
    }
   ],
   "source": [
    "print('mse:', mse(y_test, el_net.predict(X_test)))\n",
    "print('mae:', mae(y_test, el_net.predict(X_test)))"
   ]
  },
  {
   "cell_type": "code",
   "execution_count": 21,
   "id": "5ebf4578",
   "metadata": {},
   "outputs": [],
   "source": [
    "# Также, как было сказано в теоретической части, можно обучать линейную регрессию с помощью градиентного спуска\n",
    "# Давайте попробуем использовать вручную реализованный градиетный спуск и посмотрим, изменится ли значение ошибки модели"
   ]
  },
  {
   "cell_type": "code",
   "execution_count": 22,
   "id": "1411c819",
   "metadata": {},
   "outputs": [],
   "source": [
    "from sklearn.base import BaseEstimator\n",
    "\n",
    "class Gradient_descent(BaseEstimator):\n",
    "    def __init__(self, eps=1e-4, max_steps=1000, w0=None, alpha=1e-2):\n",
    "        \"\"\"\n",
    "        eps: разница для нормы изменения весов\n",
    "        max_steps: максимальное кол-во шагов \n",
    "        w0: np.array(d) - начальные веса\n",
    "        alpha: шаг обучения\n",
    "        \"\"\"\n",
    "        self.eps = eps\n",
    "        self.max_steps = max_steps\n",
    "        self.w0 = w0\n",
    "        self.alpha = alpha\n",
    "        self.w = None\n",
    "    \n",
    "    def fit(self, X, y):\n",
    "        \"\"\"\n",
    "        X: np.array(l, d)\n",
    "        y: np.array(l)\n",
    "        ---\n",
    "        output: self\n",
    "        \"\"\"\n",
    "                \n",
    "        if self.w0 is None:\n",
    "            self.w0 = np.zeros(X.shape[1])\n",
    "        \n",
    "        self.w = self.w0\n",
    "        \n",
    "        for step in range(self.max_steps):\n",
    "            w_new = self.w - self.alpha * self.calc_gradient(X, y)\n",
    "            \n",
    "            if np.linalg.norm(w_new - self.w) < self.eps:\n",
    "                break\n",
    "            \n",
    "            self.w = w_new\n",
    "        \n",
    "        return self\n",
    "    \n",
    "    def calc_gradient(self, X, y):\n",
    "        \"\"\"\n",
    "        X: np.array(l, d)\n",
    "        y: np.array(l)\n",
    "        ---\n",
    "        output: np.array(d)\n",
    "        \"\"\"\n",
    "        \n",
    "        return (2/X.shape[0]) * np.dot(X.T, (np.dot(X, self.w) - y))\n",
    "    \n",
    "    def predict(self, X):\n",
    "        \"\"\"\n",
    "        X: np.array(l, d)\n",
    "        ---\n",
    "        output: np.array(l)\n",
    "        \"\"\"\n",
    "        \n",
    "        if self.w is None:\n",
    "            raise Exception('Not trained yet')\n",
    "        \n",
    "        return np.dot(X, self.w)\n"
   ]
  },
  {
   "cell_type": "code",
   "execution_count": 23,
   "id": "60d9dd04",
   "metadata": {},
   "outputs": [
    {
     "name": "stdout",
     "output_type": "stream",
     "text": [
      "mse: 33.107698865297436\n",
      "mae: 3.4829881370522395\n"
     ]
    }
   ],
   "source": [
    "gd = Gradient_descent()\n",
    "gd.fit(X_train_scaled, y_train)\n",
    "print('mse:', mse(y_test, gd.predict(X_test_scaled)))\n",
    "print('mae:', mae(y_test, gd.predict(X_test_scaled)))"
   ]
  },
  {
   "cell_type": "code",
   "execution_count": 24,
   "id": "cbdf430b",
   "metadata": {},
   "outputs": [],
   "source": [
    "# Теперь обучим kNN"
   ]
  },
  {
   "cell_type": "code",
   "execution_count": 25,
   "id": "c660c438",
   "metadata": {},
   "outputs": [],
   "source": [
    "from sklearn.neighbors import KNeighborsRegressor"
   ]
  },
  {
   "cell_type": "code",
   "execution_count": 26,
   "id": "2c55d92a",
   "metadata": {},
   "outputs": [],
   "source": [
    "knn = GridSearchCV(\n",
    "    KNeighborsRegressor(),\n",
    "    param_grid={\n",
    "        'n_neighbors': list(range(2, 30)),\n",
    "        'weights': ['uniform', 'distance'],\n",
    "        'p': [1, 2, 3]\n",
    "    }\n",
    ")"
   ]
  },
  {
   "cell_type": "code",
   "execution_count": 27,
   "id": "583c8a2c",
   "metadata": {},
   "outputs": [
    {
     "data": {
      "text/plain": [
       "GridSearchCV(estimator=KNeighborsRegressor(),\n",
       "             param_grid={'n_neighbors': [2, 3, 4, 5, 6, 7, 8, 9, 10, 11, 12, 13,\n",
       "                                         14, 15, 16, 17, 18, 19, 20, 21, 22, 23,\n",
       "                                         24, 25, 26, 27, 28, 29],\n",
       "                         'p': [1, 2, 3], 'weights': ['uniform', 'distance']})"
      ]
     },
     "execution_count": 27,
     "metadata": {},
     "output_type": "execute_result"
    }
   ],
   "source": [
    "knn.fit(X_train, y_train)"
   ]
  },
  {
   "cell_type": "code",
   "execution_count": 28,
   "id": "2da433df",
   "metadata": {},
   "outputs": [
    {
     "data": {
      "text/plain": [
       "{'n_neighbors': 25, 'p': 1, 'weights': 'distance'}"
      ]
     },
     "execution_count": 28,
     "metadata": {},
     "output_type": "execute_result"
    }
   ],
   "source": [
    "knn.best_params_"
   ]
  },
  {
   "cell_type": "code",
   "execution_count": 29,
   "id": "015aaf5e",
   "metadata": {},
   "outputs": [
    {
     "name": "stdout",
     "output_type": "stream",
     "text": [
      "mse: 20.283274136864765\n",
      "mae: 2.292419053467014\n"
     ]
    }
   ],
   "source": [
    "print('mse:', mse(y_test, knn.predict(X_test)))\n",
    "print('mae:', mae(y_test, knn.predict(X_test)))"
   ]
  },
  {
   "cell_type": "code",
   "execution_count": 30,
   "id": "a5d66753",
   "metadata": {},
   "outputs": [
    {
     "data": {
      "text/plain": [
       "array([ 4. , 21. ,  4.5, ...,  3. ,  4.5,  7. ])"
      ]
     },
     "execution_count": 30,
     "metadata": {},
     "output_type": "execute_result"
    }
   ],
   "source": [
    "knn.predict(X_train)"
   ]
  },
  {
   "cell_type": "code",
   "execution_count": 31,
   "id": "c13d9663",
   "metadata": {},
   "outputs": [
    {
     "data": {
      "text/plain": [
       "GridSearchCV(estimator=KNeighborsRegressor(),\n",
       "             param_grid={'n_neighbors': [2, 3, 4, 5, 6, 7, 8, 9, 10, 11, 12, 13,\n",
       "                                         14, 15, 16, 17, 18, 19, 20, 21, 22, 23,\n",
       "                                         24, 25, 26, 27, 28, 29],\n",
       "                         'p': [1, 2, 3], 'weights': ['uniform', 'distance']})"
      ]
     },
     "execution_count": 31,
     "metadata": {},
     "output_type": "execute_result"
    }
   ],
   "source": [
    "# Попробуем обучить KNN на масштабированных данных\n",
    "knn.fit(X_train_scaled, y_train)"
   ]
  },
  {
   "cell_type": "code",
   "execution_count": 32,
   "id": "a7dc74bd",
   "metadata": {},
   "outputs": [
    {
     "data": {
      "text/plain": [
       "{'n_neighbors': 28, 'p': 3, 'weights': 'distance'}"
      ]
     },
     "execution_count": 32,
     "metadata": {},
     "output_type": "execute_result"
    }
   ],
   "source": [
    "knn.best_params_"
   ]
  },
  {
   "cell_type": "code",
   "execution_count": 33,
   "id": "04b9c8a1",
   "metadata": {},
   "outputs": [
    {
     "name": "stdout",
     "output_type": "stream",
     "text": [
      "mse: 20.299726280616284\n",
      "mae: 2.30012771888199\n"
     ]
    }
   ],
   "source": [
    "print('mse:', mse(y_test, knn.predict(X_test_scaled)))\n",
    "print('mae:', mae(y_test, knn.predict(X_test_scaled)))"
   ]
  },
  {
   "cell_type": "code",
   "execution_count": 34,
   "id": "869ac942",
   "metadata": {},
   "outputs": [],
   "source": [
    "# Теперь обучим случайный лес"
   ]
  },
  {
   "cell_type": "code",
   "execution_count": 35,
   "id": "d31edcd9",
   "metadata": {},
   "outputs": [],
   "source": [
    "from sklearn.ensemble import RandomForestRegressor"
   ]
  },
  {
   "cell_type": "code",
   "execution_count": 36,
   "id": "e92b7fea",
   "metadata": {},
   "outputs": [
    {
     "name": "stdout",
     "output_type": "stream",
     "text": [
      "mse: 17.68097674692905\n",
      "mae: 2.193616321124681\n"
     ]
    }
   ],
   "source": [
    "forest = RandomForestRegressor(min_samples_split=5, max_features=0.3)\n",
    "forest.fit(X_train, y_train)\n",
    "print('mse:', mse(y_test, forest.predict(X_test)))\n",
    "print('mae:', mae(y_test, forest.predict(X_test)))"
   ]
  },
  {
   "cell_type": "code",
   "execution_count": 37,
   "id": "c06078dc",
   "metadata": {
    "scrolled": true
   },
   "outputs": [
    {
     "data": {
      "image/png": "[encoded data removed]",
      "text/plain": [
       "<Figure size 432x288 with 1 Axes>"
      ]
     },
     "metadata": {
      "needs_background": "light"
     },
     "output_type": "display_data"
    }
   ],
   "source": [
    "# При построении графика зависимости качества модели от количества дереьев видно, что\n",
    "# качество в определенный момент выходит на асимптоту\n",
    "Q = []\n",
    "for n_est in range(1, 200, 2):\n",
    "    model = RandomForestRegressor(n_estimators=n_est, min_samples_split=7, max_features=0.3, random_state=13)\n",
    "    model.fit(X_train, y_train)\n",
    "    Q.append(mse(y_test, model.predict(X_test)))\n",
    "\n",
    "plt.plot(range(1, 200, 2), Q)\n",
    "plt.xlabel('n_esimators')\n",
    "plt.ylabel('MSE')\n",
    "plt.show()"
   ]
  },
  {
   "cell_type": "code",
   "execution_count": 38,
   "id": "768c57ea",
   "metadata": {},
   "outputs": [
    {
     "name": "stdout",
     "output_type": "stream",
     "text": [
      "mse: 17.801231013083605\n",
      "mae: 2.2078948081322474\n"
     ]
    }
   ],
   "source": [
    "# Попробуем обучить случайный лес на масштабированных данных\n",
    "forest.fit(X_train_scaled, y_train)\n",
    "print('mse:', mse(y_test, forest.predict(X_test_scaled)))\n",
    "print('mae:', mae(y_test, forest.predict(X_test_scaled)))"
   ]
  },
  {
   "cell_type": "code",
   "execution_count": 39,
   "id": "119c18f3",
   "metadata": {},
   "outputs": [],
   "source": [
    "# Теперь обучим градиентный бустинг"
   ]
  },
  {
   "cell_type": "code",
   "execution_count": 40,
   "id": "b47aedf4",
   "metadata": {},
   "outputs": [],
   "source": [
    "from sklearn.ensemble import GradientBoostingRegressor"
   ]
  },
  {
   "cell_type": "code",
   "execution_count": 41,
   "id": "f94c9e46",
   "metadata": {},
   "outputs": [
    {
     "data": {
      "text/plain": [
       "GradientBoostingRegressor()"
      ]
     },
     "execution_count": 41,
     "metadata": {},
     "output_type": "execute_result"
    }
   ],
   "source": [
    "gbm = GradientBoostingRegressor()\n",
    "gbm.fit(X_train, y_train)"
   ]
  },
  {
   "cell_type": "code",
   "execution_count": 42,
   "id": "621cdaeb",
   "metadata": {},
   "outputs": [
    {
     "name": "stdout",
     "output_type": "stream",
     "text": [
      "mse: 16.815422122748263\n",
      "mae: 2.2071922070011767\n"
     ]
    }
   ],
   "source": [
    "print('mse:', mse(y_test, gbm.predict(X_test)))\n",
    "print('mae:', mae(y_test, gbm.predict(X_test)))"
   ]
  },
  {
   "cell_type": "code",
   "execution_count": 43,
   "id": "e8cd53e5",
   "metadata": {},
   "outputs": [],
   "source": [
    "# Попробуем подобрать гиперпараметры модели\n",
    "# Также сравним модели, представленные в разных библиотеках"
   ]
  },
  {
   "cell_type": "code",
   "execution_count": 44,
   "id": "e7005a67",
   "metadata": {},
   "outputs": [],
   "source": [
    "from catboost import CatBoostRegressor\n",
    "from lightgbm import LGBMRegressor"
   ]
  },
  {
   "cell_type": "code",
   "execution_count": 45,
   "id": "0dac298d",
   "metadata": {},
   "outputs": [],
   "source": [
    "def trees_num_plot(X_train, y_train, X_test, y_test):\n",
    "    n_trees = [1, 5, 10, 50, 100, 300, 500, 700, 1000]\n",
    "    quals_train_lgb = []\n",
    "    quals_test_lgb = []\n",
    "    quals_train_cbm = []\n",
    "    quals_test_cbm = []\n",
    "    quals_train_gb = []\n",
    "    quals_test_gb = []\n",
    "\n",
    "    for n in n_trees:\n",
    "        lgb = LGBMRegressor(n_estimators=n)\n",
    "        lgb.fit(X_train, y_train)\n",
    "        q_train_lgb = mse(y_train, lgb.predict(X_train))\n",
    "        q_test_lgb = mse(y_test, lgb.predict(X_test))\n",
    "\n",
    "        cbm = CatBoostRegressor(n_estimators=n, logging_level=\"Silent\")\n",
    "        cbm.fit(X_train, y_train)\n",
    "        q_train_cbm = mse(y_train, cbm.predict(X_train))\n",
    "        q_test_cbm = mse(y_test, cbm.predict(X_test))\n",
    "\n",
    "        gb = GradientBoostingRegressor(n_estimators=n)\n",
    "        gb.fit(X_train, y_train)\n",
    "        q_train_gb = mse(y_train, gb.predict(X_train))\n",
    "        q_test_gb = mse(y_test, gb.predict(X_test))\n",
    "\n",
    "        quals_train_lgb.append(q_train_lgb)\n",
    "        quals_test_lgb.append(q_test_lgb)\n",
    "        quals_train_cbm.append(q_train_cbm)\n",
    "        quals_test_cbm.append(q_test_cbm)\n",
    "        quals_train_gb.append(q_train_gb)\n",
    "        quals_test_gb.append(q_test_gb)\n",
    "\n",
    "\n",
    "    plt.figure(figsize=(11.5, 7))\n",
    "    plt.plot(n_trees, quals_train_lgb, marker='.', label='LightGBM train')\n",
    "    plt.plot(n_trees, quals_test_lgb, marker='.', label='LightGBM test')\n",
    "    plt.plot(n_trees, quals_train_cbm, marker='.', label='CatBoost train')\n",
    "    plt.plot(n_trees, quals_test_cbm, marker='.', label='CatBoost test')\n",
    "    plt.plot(n_trees, quals_train_gb, marker='.', label='Sklearn train')\n",
    "    plt.plot(n_trees, quals_test_gb, marker='.', label='Sklearn test')\n",
    "    plt.xlabel('Number of trees')\n",
    "    plt.ylabel('MSE')\n",
    "    plt.legend()\n",
    "\n",
    "    plt.show()"
   ]
  },
  {
   "cell_type": "code",
   "execution_count": 46,
   "id": "e18d31d6",
   "metadata": {},
   "outputs": [],
   "source": [
    "def trees_depth_plot(X_train, y_train, X_test, y_test):\n",
    "    depth = list(range(1, 12, 2))\n",
    "    n_trees = 100\n",
    "    quals_train_lgb = []\n",
    "    quals_test_lgb = []\n",
    "    quals_train_cbm = []\n",
    "    quals_test_cbm = []\n",
    "    quals_train_gb = []\n",
    "    quals_test_gb = []\n",
    "\n",
    "    for d in depth:\n",
    "        lgb = LGBMRegressor(n_estimators=n_trees, max_depth=d)\n",
    "        lgb.fit(X_train, y_train)\n",
    "        q_train_lgb = mse(y_train, lgb.predict(X_train))\n",
    "        q_test_lgb = mse(y_test, lgb.predict(X_test))\n",
    "\n",
    "        cbm = CatBoostRegressor(n_estimators=n_trees, max_depth=d, logging_level=\"Silent\")\n",
    "        cbm.fit(X_train, y_train)\n",
    "        q_train_cbm = mse(y_train, cbm.predict(X_train))\n",
    "        q_test_cbm = mse(y_test, cbm.predict(X_test))\n",
    "\n",
    "        gb = GradientBoostingRegressor(n_estimators=n_trees, max_depth=d)\n",
    "        gb.fit(X_train, y_train)\n",
    "        q_train_gb = mse(y_train, gb.predict(X_train))\n",
    "        q_test_gb = mse(y_test, gb.predict(X_test))\n",
    "\n",
    "        quals_train_lgb.append(q_train_lgb)\n",
    "        quals_test_lgb.append(q_test_lgb)\n",
    "        quals_train_cbm.append(q_train_cbm)\n",
    "        quals_test_cbm.append(q_test_cbm)\n",
    "        quals_train_gb.append(q_train_gb)\n",
    "        quals_test_gb.append(q_test_gb)\n",
    "\n",
    "\n",
    "    plt.figure(figsize=(11.5, 7))\n",
    "    plt.plot(depth, quals_train_lgb, marker='.', label='LightGBM train')\n",
    "    plt.plot(depth, quals_test_lgb, marker='.', label='LightGBM test')\n",
    "    plt.plot(depth, quals_train_cbm, marker='.', label='CatBoost train')\n",
    "    plt.plot(depth, quals_test_cbm, marker='.', label='CatBoost test')\n",
    "    plt.plot(depth, quals_train_gb, marker='.', label='Sklearn train')\n",
    "    plt.plot(depth, quals_test_gb, marker='.', label='Sklearn test')\n",
    "    plt.xlabel('Depth of trees')\n",
    "    plt.ylabel('MSE')\n",
    "    plt.legend()\n",
    "\n",
    "    plt.show()"
   ]
  },
  {
   "cell_type": "code",
   "execution_count": 47,
   "id": "9ddf54d0",
   "metadata": {},
   "outputs": [
    {
     "data": {
      "image/png": "[encoded data removed]",
      "text/plain": [
       "<Figure size 828x504 with 1 Axes>"
      ]
     },
     "metadata": {
      "needs_background": "light"
     },
     "output_type": "display_data"
    }
   ],
   "source": [
    "trees_num_plot(X_train, y_train, X_test, y_test)"
   ]
  },
  {
   "cell_type": "code",
   "execution_count": 48,
   "id": "75aed24a",
   "metadata": {},
   "outputs": [
    {
     "data": {
      "image/png": "[encoded data removed]",
      "text/plain": [
       "<Figure size 828x504 with 1 Axes>"
      ]
     },
     "metadata": {
      "needs_background": "light"
     },
     "output_type": "display_data"
    }
   ],
   "source": [
    "trees_depth_plot(X_train, y_train, X_test, y_test)"
   ]
  },
  {
   "cell_type": "code",
   "execution_count": 49,
   "id": "3fc37550",
   "metadata": {},
   "outputs": [
    {
     "name": "stdout",
     "output_type": "stream",
     "text": [
      "mse: 15.907881599713244\n",
      "mae: 2.20195774294398\n"
     ]
    }
   ],
   "source": [
    "# Из графиков видно, что модель, представленная ниже, наилучшая\n",
    "cb_reg = CatBoostRegressor(logging_level='Silent', n_estimators=100, max_depth=3)\n",
    "cb_reg.fit(X_train, y_train)\n",
    "print('mse:', mse(y_test, cb_reg.predict(X_test)))\n",
    "print('mae:', mae(y_test, cb_reg.predict(X_test)))"
   ]
  },
  {
   "cell_type": "code",
   "execution_count": 50,
   "id": "1e93387b",
   "metadata": {},
   "outputs": [
    {
     "name": "stdout",
     "output_type": "stream",
     "text": [
      "mse: 15.854802008501085\n",
      "mae: 2.2014166657616823\n"
     ]
    }
   ],
   "source": [
    "# Также можно заметить, что масштабирование практически не изменяет значения ошибок\n",
    "cb_reg_sc = CatBoostRegressor(logging_level='Silent', n_estimators=100, max_depth=3)\n",
    "cb_reg_sc.fit(X_train_scaled, y_train)\n",
    "print('mse:', mse(y_test, cb_reg_sc.predict(X_test_scaled)))\n",
    "print('mae:', mae(y_test, cb_reg_sc.predict(X_test_scaled)))"
   ]
  },
  {
   "cell_type": "code",
   "execution_count": 51,
   "id": "d761047d",
   "metadata": {},
   "outputs": [],
   "source": [
    "# Последнее, что мы попробуем - блендинг бустинга и случайного леса, блендинг бустинга и kNN"
   ]
  },
  {
   "cell_type": "code",
   "execution_count": 52,
   "id": "84aa444a",
   "metadata": {},
   "outputs": [],
   "source": [
    "def select_weights(y_true, y_pred_1, y_pred_2):\n",
    "    metric = []\n",
    "    grid = np.linspace(0, 1, 1000)\n",
    "    for w_0 in grid:\n",
    "        w_1 = 1 - w_0\n",
    "        y = y_pred_1 * w_0 + y_pred_2 * w_1\n",
    "        metric.append([mse(y_true, y), mae(y_true, y), w_0, w_1])\n",
    "    \n",
    "    return min(metric, key=lambda x: x[0])"
   ]
  },
  {
   "cell_type": "code",
   "execution_count": 53,
   "id": "40c88972",
   "metadata": {},
   "outputs": [
    {
     "data": {
      "text/plain": [
       "[15.669335150035092,\n",
       " 2.1167794857921525,\n",
       " 0.12412412412412413,\n",
       " 0.8758758758758759]"
      ]
     },
     "execution_count": 53,
     "metadata": {},
     "output_type": "execute_result"
    }
   ],
   "source": [
    "select_weights(y_test, forest.predict(X_test), cb_reg.predict(X_test))"
   ]
  },
  {
   "cell_type": "code",
   "execution_count": 54,
   "id": "2e1cf991",
   "metadata": {},
   "outputs": [
    {
     "data": {
      "text/plain": [
       "[15.614716100212577,\n",
       " 2.0816342057209103,\n",
       " 0.11711711711711711,\n",
       " 0.8828828828828829]"
      ]
     },
     "execution_count": 54,
     "metadata": {},
     "output_type": "execute_result"
    }
   ],
   "source": [
    "select_weights(y_test, knn.predict(X_test), cb_reg.predict(X_test))"
   ]
  },
  {
   "cell_type": "code",
   "execution_count": 55,
   "id": "ef1a7c89",
   "metadata": {},
   "outputs": [],
   "source": [
    "# Заключение: как можно заметить, лучшей моделью оказался блендинг градиентного бустинга из библиотеки CatBoost и KNN\n",
    "# Далее мы реализуем графический интерфейс, в котором будем использовать именно эту модель"
   ]
  },
  {
   "cell_type": "code",
   "execution_count": 56,
   "id": "a5510fba",
   "metadata": {},
   "outputs": [],
   "source": [
    "# Загрузим обученную нами модель в файл\n",
    "cb_reg.save_model(\"cb_reg.txt\")"
   ]
  },
  {
   "cell_type": "code",
   "execution_count": 57,
   "id": "2520871d",
   "metadata": {},
   "outputs": [],
   "source": [
    "with open(r\"weights.txt\", \"w\") as file:\n",
    "    param = select_weights(y_test, knn.predict(X_test), cb_reg.predict(X_test))\n",
    "    file.write(str(param[2]))\n",
    "    file.write('\\n')\n",
    "    file.write(str(param[3]))"
   ]
  },
  {
   "cell_type": "code",
   "execution_count": 58,
   "id": "25fa86c6",
   "metadata": {},
   "outputs": [],
   "source": [
    "X_train.to_csv('train_data.csv', index=False)\n",
    "y_train.to_csv('train_data_targets.csv', index=False)\n",
    "# df.drop(['day', 'name', 'quantity'], axis=1).to_csv('data_to_test.csv', index=False)"
   ]
  },
  {
   "cell_type": "code",
   "execution_count": null,
   "id": "76cc5d0e",
   "metadata": {},
   "outputs": [],
   "source": []
  }
 ],
 "metadata": {
  "kernelspec": {
   "display_name": "Python 3",
   "language": "python",
   "name": "python3"
  },
  "language_info": {
   "codemirror_mode": {
    "name": "ipython",
    "version": 3
   },
   "file_extension": ".py",
   "mimetype": "text/x-python",
   "name": "python",
   "nbconvert_exporter": "python",
   "pygments_lexer": "ipython3",
   "version": "3.9.4"
  }
 },
 "nbformat": 4,
 "nbformat_minor": 5
}
