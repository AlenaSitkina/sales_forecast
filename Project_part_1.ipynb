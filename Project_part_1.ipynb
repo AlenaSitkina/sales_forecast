{
 "cells": [
  {
   "cell_type": "code",
   "execution_count": 2,
   "metadata": {},
   "outputs": [],
   "source": [
    "# Импортируем необходимые библиотеки\n",
    "import pandas as pd\n",
    "import seaborn as sns\n",
    "import numpy as np\n",
    "import datetime"
   ]
  },
  {
   "cell_type": "code",
   "execution_count": 3,
   "metadata": {},
   "outputs": [],
   "source": [
    "# Считаем данные (pd.read_excel - функция для считывания данных из файла с расширением .xls)\n",
    "df = pd.read_excel(r'C:\\Users\\sitki\\Desktop\\Курсовая\\Курсовая_2.0\\По_дням_ноябрь_молочка_и_хлеб.xls')"
   ]
  },
  {
   "cell_type": "code",
   "execution_count": 4,
   "metadata": {},
   "outputs": [
    {
     "data": {
      "text/html": [
       "<div>\n",
       "<style scoped>\n",
       "    .dataframe tbody tr th:only-of-type {\n",
       "        vertical-align: middle;\n",
       "    }\n",
       "\n",
       "    .dataframe tbody tr th {\n",
       "        vertical-align: top;\n",
       "    }\n",
       "\n",
       "    .dataframe thead th {\n",
       "        text-align: right;\n",
       "    }\n",
       "</style>\n",
       "<table border=\"1\" class=\"dataframe\">\n",
       "  <thead>\n",
       "    <tr style=\"text-align: right;\">\n",
       "      <th></th>\n",
       "      <th>Наименование</th>\n",
       "      <th>Количество</th>\n",
       "      <th>Сумма продажи</th>\n",
       "      <th>Прибыль</th>\n",
       "      <th>Дата</th>\n",
       "    </tr>\n",
       "  </thead>\n",
       "  <tbody>\n",
       "    <tr>\n",
       "      <th>0</th>\n",
       "      <td>Аджика домашняя 260гр</td>\n",
       "      <td>2.0</td>\n",
       "      <td>130.00</td>\n",
       "      <td>46.00</td>\n",
       "      <td>2020-11-02</td>\n",
       "    </tr>\n",
       "    <tr>\n",
       "      <th>1</th>\n",
       "      <td>Ацидофилин 2,7% 200г.ВМК БЗМЖ</td>\n",
       "      <td>4.0</td>\n",
       "      <td>71.81</td>\n",
       "      <td>9.85</td>\n",
       "      <td>2020-11-02</td>\n",
       "    </tr>\n",
       "    <tr>\n",
       "      <th>2</th>\n",
       "      <td>Батон ГОРЧИЧНЫЙ 300 г. Хлебозавод №1 +</td>\n",
       "      <td>21.0</td>\n",
       "      <td>419.90</td>\n",
       "      <td>81.38</td>\n",
       "      <td>2020-11-02</td>\n",
       "    </tr>\n",
       "    <tr>\n",
       "      <th>3</th>\n",
       "      <td>Батон Луковый 300г.Орион</td>\n",
       "      <td>2.0</td>\n",
       "      <td>57.93</td>\n",
       "      <td>11.93</td>\n",
       "      <td>2020-11-02</td>\n",
       "    </tr>\n",
       "    <tr>\n",
       "      <th>4</th>\n",
       "      <td>Батон НАРЕЗНОЙ 400 г. Хлебозавод №1 +</td>\n",
       "      <td>41.0</td>\n",
       "      <td>901.19</td>\n",
       "      <td>192.71</td>\n",
       "      <td>2020-11-02</td>\n",
       "    </tr>\n",
       "  </tbody>\n",
       "</table>\n",
       "</div>"
      ],
      "text/plain": [
       "                             Наименование  Количество  Сумма продажи  Прибыль  \\\n",
       "0                   Аджика домашняя 260гр         2.0         130.00    46.00   \n",
       "1           Ацидофилин 2,7% 200г.ВМК БЗМЖ         4.0          71.81     9.85   \n",
       "2  Батон ГОРЧИЧНЫЙ 300 г. Хлебозавод №1 +        21.0         419.90    81.38   \n",
       "3                Батон Луковый 300г.Орион         2.0          57.93    11.93   \n",
       "4   Батон НАРЕЗНОЙ 400 г. Хлебозавод №1 +        41.0         901.19   192.71   \n",
       "\n",
       "        Дата  \n",
       "0 2020-11-02  \n",
       "1 2020-11-02  \n",
       "2 2020-11-02  \n",
       "3 2020-11-02  \n",
       "4 2020-11-02  "
      ]
     },
     "execution_count": 4,
     "metadata": {},
     "output_type": "execute_result"
    }
   ],
   "source": [
    "# Посмотрим на наши данные\n",
    "df.head()"
   ]
  },
  {
   "cell_type": "code",
   "execution_count": 5,
   "metadata": {},
   "outputs": [],
   "source": [
    "# Для удобства переименуем колонки\n",
    "df = df.rename(columns={'Наименование': 'name', \n",
    "                        'Количество': 'quantity', \n",
    "                        'Сумма продажи': 'total_sum', \n",
    "                        'Прибыль': 'income', \n",
    "                        'Дата': 'date'})"
   ]
  },
  {
   "cell_type": "code",
   "execution_count": 6,
   "metadata": {},
   "outputs": [
    {
     "data": {
      "text/plain": [
       "(2510, 5)"
      ]
     },
     "execution_count": 6,
     "metadata": {},
     "output_type": "execute_result"
    }
   ],
   "source": [
    "# Размеры датафрейма\n",
    "df.shape"
   ]
  },
  {
   "cell_type": "code",
   "execution_count": 7,
   "metadata": {},
   "outputs": [
    {
     "data": {
      "text/plain": [
       "name         0\n",
       "quantity     0\n",
       "total_sum    0\n",
       "income       0\n",
       "date         0\n",
       "dtype: int64"
      ]
     },
     "execution_count": 7,
     "metadata": {},
     "output_type": "execute_result"
    }
   ],
   "source": [
    "# Пропусков в датафрейме нет\n",
    "df.isna().sum()"
   ]
  },
  {
   "cell_type": "code",
   "execution_count": 8,
   "metadata": {},
   "outputs": [
    {
     "data": {
      "text/plain": [
       "name                 object\n",
       "quantity            float64\n",
       "total_sum           float64\n",
       "income              float64\n",
       "date         datetime64[ns]\n",
       "dtype: object"
      ]
     },
     "execution_count": 8,
     "metadata": {},
     "output_type": "execute_result"
    }
   ],
   "source": [
    "# Типы значений в колонках датафрейма\n",
    "df.dtypes"
   ]
  },
  {
   "cell_type": "code",
   "execution_count": 9,
   "metadata": {},
   "outputs": [],
   "source": [
    "# Создадим колонку, содержащую розничную цену товара\n",
    "df['price'] = (df.income / df.quantity).round(2)"
   ]
  },
  {
   "cell_type": "code",
   "execution_count": 10,
   "metadata": {},
   "outputs": [],
   "source": [
    "# Создадим колонку, содержащую день\n",
    "df['day'] = df.date.apply(lambda x: x.day)"
   ]
  },
  {
   "cell_type": "code",
   "execution_count": 11,
   "metadata": {},
   "outputs": [],
   "source": [
    "# Создадим колонку категории товара, чтобы, \n",
    "# во-первых, посмотреть, нет ли избыточной информации в данных (товары, не интересующие нас),\n",
    "# во-вторых, использовать категорию товара как один из признаков\n",
    "df['cathegory'] = df.name.apply(lambda x: x.split()[0])"
   ]
  },
  {
   "cell_type": "code",
   "execution_count": 12,
   "metadata": {},
   "outputs": [
    {
     "data": {
      "text/html": [
       "<div>\n",
       "<style scoped>\n",
       "    .dataframe tbody tr th:only-of-type {\n",
       "        vertical-align: middle;\n",
       "    }\n",
       "\n",
       "    .dataframe tbody tr th {\n",
       "        vertical-align: top;\n",
       "    }\n",
       "\n",
       "    .dataframe thead th {\n",
       "        text-align: right;\n",
       "    }\n",
       "</style>\n",
       "<table border=\"1\" class=\"dataframe\">\n",
       "  <thead>\n",
       "    <tr style=\"text-align: right;\">\n",
       "      <th></th>\n",
       "      <th>name</th>\n",
       "      <th>quantity</th>\n",
       "      <th>total_sum</th>\n",
       "      <th>income</th>\n",
       "      <th>date</th>\n",
       "      <th>price</th>\n",
       "      <th>day</th>\n",
       "      <th>cathegory</th>\n",
       "    </tr>\n",
       "  </thead>\n",
       "  <tbody>\n",
       "    <tr>\n",
       "      <th>0</th>\n",
       "      <td>Аджика домашняя 260гр</td>\n",
       "      <td>2.0</td>\n",
       "      <td>130.00</td>\n",
       "      <td>46.00</td>\n",
       "      <td>2020-11-02</td>\n",
       "      <td>23.00</td>\n",
       "      <td>2</td>\n",
       "      <td>Аджика</td>\n",
       "    </tr>\n",
       "    <tr>\n",
       "      <th>1</th>\n",
       "      <td>Ацидофилин 2,7% 200г.ВМК БЗМЖ</td>\n",
       "      <td>4.0</td>\n",
       "      <td>71.81</td>\n",
       "      <td>9.85</td>\n",
       "      <td>2020-11-02</td>\n",
       "      <td>2.46</td>\n",
       "      <td>2</td>\n",
       "      <td>Ацидофилин</td>\n",
       "    </tr>\n",
       "    <tr>\n",
       "      <th>2</th>\n",
       "      <td>Батон ГОРЧИЧНЫЙ 300 г. Хлебозавод №1 +</td>\n",
       "      <td>21.0</td>\n",
       "      <td>419.90</td>\n",
       "      <td>81.38</td>\n",
       "      <td>2020-11-02</td>\n",
       "      <td>3.88</td>\n",
       "      <td>2</td>\n",
       "      <td>Батон</td>\n",
       "    </tr>\n",
       "    <tr>\n",
       "      <th>3</th>\n",
       "      <td>Батон Луковый 300г.Орион</td>\n",
       "      <td>2.0</td>\n",
       "      <td>57.93</td>\n",
       "      <td>11.93</td>\n",
       "      <td>2020-11-02</td>\n",
       "      <td>5.96</td>\n",
       "      <td>2</td>\n",
       "      <td>Батон</td>\n",
       "    </tr>\n",
       "    <tr>\n",
       "      <th>4</th>\n",
       "      <td>Батон НАРЕЗНОЙ 400 г. Хлебозавод №1 +</td>\n",
       "      <td>41.0</td>\n",
       "      <td>901.19</td>\n",
       "      <td>192.71</td>\n",
       "      <td>2020-11-02</td>\n",
       "      <td>4.70</td>\n",
       "      <td>2</td>\n",
       "      <td>Батон</td>\n",
       "    </tr>\n",
       "  </tbody>\n",
       "</table>\n",
       "</div>"
      ],
      "text/plain": [
       "                                     name  quantity  total_sum  income  \\\n",
       "0                   Аджика домашняя 260гр       2.0     130.00   46.00   \n",
       "1           Ацидофилин 2,7% 200г.ВМК БЗМЖ       4.0      71.81    9.85   \n",
       "2  Батон ГОРЧИЧНЫЙ 300 г. Хлебозавод №1 +      21.0     419.90   81.38   \n",
       "3                Батон Луковый 300г.Орион       2.0      57.93   11.93   \n",
       "4   Батон НАРЕЗНОЙ 400 г. Хлебозавод №1 +      41.0     901.19  192.71   \n",
       "\n",
       "        date  price  day   cathegory  \n",
       "0 2020-11-02  23.00    2      Аджика  \n",
       "1 2020-11-02   2.46    2  Ацидофилин  \n",
       "2 2020-11-02   3.88    2       Батон  \n",
       "3 2020-11-02   5.96    2       Батон  \n",
       "4 2020-11-02   4.70    2       Батон  "
      ]
     },
     "execution_count": 12,
     "metadata": {},
     "output_type": "execute_result"
    }
   ],
   "source": [
    "df.head()"
   ]
  },
  {
   "cell_type": "code",
   "execution_count": 13,
   "metadata": {},
   "outputs": [
    {
     "data": {
      "text/plain": [
       "array(['Аджика', 'Ацидофилин', 'Батон', 'Батончик', 'Беляш', 'Бифидок',\n",
       "       'Булка', 'Булочка', 'Булочки', 'Ватрушка', 'Йогурт', 'Йогуртный',\n",
       "       'Кефир', 'Коктейль', 'Котлета', 'Лаваш', 'Майонез', 'Маргарин',\n",
       "       'Масло', 'Молоко', 'Напиток', 'Палочка', 'Пампушки', 'Пирог',\n",
       "       'Пицца', 'Плавленной', 'Плавленый', 'Плетенка', 'Плюшка',\n",
       "       'Пончики', 'Продукт', 'Простокваша', 'Ромашка', 'Ромовая',\n",
       "       'Ряженка', 'Сгущенка', 'Сливки', 'Слойка', 'Сметана', 'Сметанный',\n",
       "       'Снежок', 'Сосиска', 'Соус', 'Сыр', 'Сырный', 'Сырок', 'Творог',\n",
       "       'Творожная', 'Хачапури', 'Хлеб', 'Хлеб-е', 'Чиабатта', 'Шанежки',\n",
       "       'Желе', 'Рожок', 'ХБИ', 'Майонезный', 'Масса', 'Сгущеночка',\n",
       "       'Обереженка', 'Пироженое', 'Творожок', 'Палочки', 'Пуддинг',\n",
       "       'Сырки'], dtype=object)"
      ]
     },
     "execution_count": 13,
     "metadata": {},
     "output_type": "execute_result"
    }
   ],
   "source": [
    "# Видов категорий очень много; модель может переобучиться, если мы оставим данные в таком виде\n",
    "df.cathegory.unique()"
   ]
  },
  {
   "cell_type": "code",
   "execution_count": 14,
   "metadata": {},
   "outputs": [],
   "source": [
    "# Удаление избыточной информации\n",
    "df = df.query('cathegory != \"Ромашка\" and cathegory != \"Аджика\" and cathegory != \"Желе\"')"
   ]
  },
  {
   "cell_type": "code",
   "execution_count": 15,
   "metadata": {},
   "outputs": [],
   "source": [
    "# Создание более общих категорий\n",
    "df['bread'] = np.where(df.cathegory.apply(lambda x: x in [\n",
    "    'Батон', 'Батончик', 'Булка', 'Булочка', 'Булочки', 'Пампушки', 'Хлеб', 'Хлеб-е', 'Чиабатта', 'ХБИ', 'Лаваш', 'Плетенка'\n",
    "    ]), 1, 0)\n",
    "df['hotcake'] = np.where(df.cathegory.apply(lambda x: x in [\n",
    "    'Беляш', 'Ватрушка', 'Котлета', 'Пирог', 'Пицца', 'Плюшка', 'Пончики', 'Ромовая', 'Слойка', 'Сосиска', \n",
    "    'Хачапури', 'Шанежки', 'Рожок', 'Пироженое']), 1, 0)\n",
    "df['milk_or_sour_milk'] = np.where(df.cathegory.apply(lambda x: x in [\n",
    "    'Ацидофилин', 'Бифидок', 'Йогурт', 'Йогуртный', 'Кефир', 'Коктейль', 'Молоко', 'Напиток', 'Ряженка', \n",
    "    'Сливки', 'Снежок', 'Обереженка', 'Простокваша']), 1, 0)\n",
    "df['cheese_cottage_cheese'] = np.where(df.cathegory.apply(lambda x: x in [\n",
    "    'Палочка', 'Продукт', 'Сырок', 'Творог', 'Плавленной', 'Плавленый', 'Сыр', 'Сырный', \n",
    "    'Творожная', 'Масса', 'Творожок', 'Палочки', 'Сырки']), 1, 0)\n",
    "df['others'] = np.where(df.cathegory.apply(lambda x: x in [\n",
    "    'Майонез', 'Маргарин', 'Масло', 'Сгущенка', 'Соус', 'Сметана', 'Сметанный', 'Майонезный', 'Сгущеночка', \n",
    "    'Пуддинг']), 1, 0)"
   ]
  },
  {
   "cell_type": "code",
   "execution_count": 15,
   "metadata": {},
   "outputs": [
    {
     "data": {
      "text/plain": [
       "<AxesSubplot:>"
      ]
     },
     "execution_count": 15,
     "metadata": {},
     "output_type": "execute_result"
    },
    {
     "data": {
      "image/png": "[encoded data removed]",
      "text/plain": [
       "<Figure size 432x288 with 1 Axes>"
      ]
     },
     "metadata": {
      "needs_background": "light"
     },
     "output_type": "display_data"
    }
   ],
   "source": [
    "# Построим график распределения целевой переменной\n",
    "df.quantity.hist(bins=50)"
   ]
  },
  {
   "cell_type": "code",
   "execution_count": 16,
   "metadata": {},
   "outputs": [
    {
     "data": {
      "text/plain": [
       "<seaborn.axisgrid.FacetGrid at 0x1dbf7ce0940>"
      ]
     },
     "execution_count": 16,
     "metadata": {},
     "output_type": "execute_result"
    },
    {
     "data": {
      "image/png": "[encoded data removed]",
      "text/plain": [
       "<Figure size 360x360 with 1 Axes>"
      ]
     },
     "metadata": {
      "needs_background": "light"
     },
     "output_type": "display_data"
    }
   ],
   "source": [
    "# График зависимости количества продаж от их розничной цены\n",
    "sns.relplot(x='price', y='quantity', data=df)"
   ]
  },
  {
   "cell_type": "code",
   "execution_count": 17,
   "metadata": {},
   "outputs": [
    {
     "data": {
      "text/plain": [
       "<seaborn.axisgrid.FacetGrid at 0x1dbf7d92b80>"
      ]
     },
     "execution_count": 17,
     "metadata": {},
     "output_type": "execute_result"
    },
    {
     "data": {
      "image/png": "[encoded data removed]",
      "text/plain": [
       "<Figure size 360x360 with 1 Axes>"
      ]
     },
     "metadata": {
      "needs_background": "light"
     },
     "output_type": "display_data"
    }
   ],
   "source": [
    "# График зависимости количества продаж от даты говорит нам о том, что явной взаимосвязи между этими параметрами нет\n",
    "# При этом мы видим скачки продаж; можно предположить, что существует зависимость количества продаж от дня недели\n",
    "sns.relplot(x='day', y='quantity', kind='line', data=df.groupby('day', as_index=False).agg({'quantity': 'sum'}))"
   ]
  },
  {
   "cell_type": "code",
   "execution_count": 16,
   "metadata": {},
   "outputs": [],
   "source": [
    "# Создадим колонку, содержашую информацию о дне недели, в который произведена продажа \n",
    "df['week_day'] = df.date.apply(lambda x: x.weekday())"
   ]
  },
  {
   "cell_type": "code",
   "execution_count": 19,
   "metadata": {},
   "outputs": [
    {
     "data": {
      "text/plain": [
       "<AxesSubplot:xlabel='week_day', ylabel='quantity'>"
      ]
     },
     "execution_count": 19,
     "metadata": {},
     "output_type": "execute_result"
    },
    {
     "data": {
      "image/png": "[encoded data removed]",
      "text/plain": [
       "<Figure size 432x288 with 1 Axes>"
      ]
     },
     "metadata": {
      "needs_background": "light"
     },
     "output_type": "display_data"
    }
   ],
   "source": [
    "# Гистограмма зависимости продаж от дня недели (к сожалению, в данных представлены не все дни недели)\n",
    "# Из гистограммы видно, что наше предположение верно, и, следовательно, день недели можно использовать как ещё один признак\n",
    "df_by_week_day = df.groupby('week_day', as_index=False).agg({'quantity': 'sum'})\n",
    "sns.barplot(x='week_day', y='quantity', data=df_by_week_day)"
   ]
  },
  {
   "cell_type": "code",
   "execution_count": 20,
   "metadata": {},
   "outputs": [
    {
     "data": {
      "text/plain": [
       "[Text(0, 0, 'bread'),\n",
       " Text(1, 0, 'hotcake'),\n",
       " Text(2, 0, 'milk_or_sour_milk'),\n",
       " Text(3, 0, 'cheese_cottage_cheese'),\n",
       " Text(4, 0, 'others')]"
      ]
     },
     "execution_count": 20,
     "metadata": {},
     "output_type": "execute_result"
    },
    {
     "data": {
      "image/png": "[encoded data removed]",
      "text/plain": [
       "<Figure size 432x288 with 1 Axes>"
      ]
     },
     "metadata": {
      "needs_background": "light"
     },
     "output_type": "display_data"
    }
   ],
   "source": [
    "# Зависимость средней цены от категории товара\n",
    "products_cathegories = pd.DataFrame({'col_1': pd.Series(\n",
    "    [df.bread.mean(), df.hotcake.mean(), df.milk_or_sour_milk.mean(), df.cheese_cottage_cheese.mean(), df.others.mean()]), \n",
    "    'col_2': pd.Series(['bread', 'hotcake', 'milk_or_sour_milk', 'cheese_cottage_cheese', 'others'])})\n",
    "pl = sns.barplot(x='col_2', y='col_1', data=products_cathegories)\n",
    "pl.set_xticklabels(pl.get_xticklabels(), rotation=30)"
   ]
  },
  {
   "cell_type": "code",
   "execution_count": 21,
   "metadata": {},
   "outputs": [
    {
     "data": {
      "text/html": [
       "<div>\n",
       "<style scoped>\n",
       "    .dataframe tbody tr th:only-of-type {\n",
       "        vertical-align: middle;\n",
       "    }\n",
       "\n",
       "    .dataframe tbody tr th {\n",
       "        vertical-align: top;\n",
       "    }\n",
       "\n",
       "    .dataframe thead th {\n",
       "        text-align: right;\n",
       "    }\n",
       "</style>\n",
       "<table border=\"1\" class=\"dataframe\">\n",
       "  <thead>\n",
       "    <tr style=\"text-align: right;\">\n",
       "      <th></th>\n",
       "      <th>name</th>\n",
       "      <th>quantity</th>\n",
       "      <th>total_sum</th>\n",
       "      <th>income</th>\n",
       "      <th>date</th>\n",
       "      <th>price</th>\n",
       "      <th>day</th>\n",
       "      <th>cathegory</th>\n",
       "      <th>bread</th>\n",
       "      <th>hotcake</th>\n",
       "      <th>milk_or_sour_milk</th>\n",
       "      <th>cheese_cottage_cheese</th>\n",
       "      <th>others</th>\n",
       "      <th>week_day</th>\n",
       "    </tr>\n",
       "  </thead>\n",
       "  <tbody>\n",
       "    <tr>\n",
       "      <th>1</th>\n",
       "      <td>Ацидофилин 2,7% 200г.ВМК БЗМЖ</td>\n",
       "      <td>4.0</td>\n",
       "      <td>71.81</td>\n",
       "      <td>9.85</td>\n",
       "      <td>2020-11-02</td>\n",
       "      <td>2.46</td>\n",
       "      <td>2</td>\n",
       "      <td>Ацидофилин</td>\n",
       "      <td>0</td>\n",
       "      <td>0</td>\n",
       "      <td>1</td>\n",
       "      <td>0</td>\n",
       "      <td>0</td>\n",
       "      <td>0</td>\n",
       "    </tr>\n",
       "    <tr>\n",
       "      <th>2</th>\n",
       "      <td>Батон ГОРЧИЧНЫЙ 300 г. Хлебозавод №1 +</td>\n",
       "      <td>21.0</td>\n",
       "      <td>419.90</td>\n",
       "      <td>81.38</td>\n",
       "      <td>2020-11-02</td>\n",
       "      <td>3.88</td>\n",
       "      <td>2</td>\n",
       "      <td>Батон</td>\n",
       "      <td>1</td>\n",
       "      <td>0</td>\n",
       "      <td>0</td>\n",
       "      <td>0</td>\n",
       "      <td>0</td>\n",
       "      <td>0</td>\n",
       "    </tr>\n",
       "    <tr>\n",
       "      <th>3</th>\n",
       "      <td>Батон Луковый 300г.Орион</td>\n",
       "      <td>2.0</td>\n",
       "      <td>57.93</td>\n",
       "      <td>11.93</td>\n",
       "      <td>2020-11-02</td>\n",
       "      <td>5.96</td>\n",
       "      <td>2</td>\n",
       "      <td>Батон</td>\n",
       "      <td>1</td>\n",
       "      <td>0</td>\n",
       "      <td>0</td>\n",
       "      <td>0</td>\n",
       "      <td>0</td>\n",
       "      <td>0</td>\n",
       "    </tr>\n",
       "    <tr>\n",
       "      <th>4</th>\n",
       "      <td>Батон НАРЕЗНОЙ 400 г. Хлебозавод №1 +</td>\n",
       "      <td>41.0</td>\n",
       "      <td>901.19</td>\n",
       "      <td>192.71</td>\n",
       "      <td>2020-11-02</td>\n",
       "      <td>4.70</td>\n",
       "      <td>2</td>\n",
       "      <td>Батон</td>\n",
       "      <td>1</td>\n",
       "      <td>0</td>\n",
       "      <td>0</td>\n",
       "      <td>0</td>\n",
       "      <td>0</td>\n",
       "      <td>0</td>\n",
       "    </tr>\n",
       "    <tr>\n",
       "      <th>5</th>\n",
       "      <td>Батон Нарезной 400г.Переславский х-д.</td>\n",
       "      <td>5.0</td>\n",
       "      <td>164.98</td>\n",
       "      <td>38.48</td>\n",
       "      <td>2020-11-02</td>\n",
       "      <td>7.70</td>\n",
       "      <td>2</td>\n",
       "      <td>Батон</td>\n",
       "      <td>1</td>\n",
       "      <td>0</td>\n",
       "      <td>0</td>\n",
       "      <td>0</td>\n",
       "      <td>0</td>\n",
       "      <td>0</td>\n",
       "    </tr>\n",
       "  </tbody>\n",
       "</table>\n",
       "</div>"
      ],
      "text/plain": [
       "                                     name  quantity  total_sum  income  \\\n",
       "1           Ацидофилин 2,7% 200г.ВМК БЗМЖ       4.0      71.81    9.85   \n",
       "2  Батон ГОРЧИЧНЫЙ 300 г. Хлебозавод №1 +      21.0     419.90   81.38   \n",
       "3                Батон Луковый 300г.Орион       2.0      57.93   11.93   \n",
       "4   Батон НАРЕЗНОЙ 400 г. Хлебозавод №1 +      41.0     901.19  192.71   \n",
       "5   Батон Нарезной 400г.Переславский х-д.       5.0     164.98   38.48   \n",
       "\n",
       "        date  price  day   cathegory  bread  hotcake  milk_or_sour_milk  \\\n",
       "1 2020-11-02   2.46    2  Ацидофилин      0        0                  1   \n",
       "2 2020-11-02   3.88    2       Батон      1        0                  0   \n",
       "3 2020-11-02   5.96    2       Батон      1        0                  0   \n",
       "4 2020-11-02   4.70    2       Батон      1        0                  0   \n",
       "5 2020-11-02   7.70    2       Батон      1        0                  0   \n",
       "\n",
       "   cheese_cottage_cheese  others  week_day  \n",
       "1                      0       0         0  \n",
       "2                      0       0         0  \n",
       "3                      0       0         0  \n",
       "4                      0       0         0  \n",
       "5                      0       0         0  "
      ]
     },
     "execution_count": 21,
     "metadata": {},
     "output_type": "execute_result"
    }
   ],
   "source": [
    "df.head()"
   ]
  },
  {
   "cell_type": "code",
   "execution_count": 17,
   "metadata": {},
   "outputs": [],
   "source": [
    "# Удалим ненужные колонки (содержащие данные, которые не могут быть нам доступны на момент предсказания и\n",
    "# вспомогательные колонки)\n",
    "df = df.drop(['total_sum', 'income', 'date', 'cathegory'], axis=1)"
   ]
  },
  {
   "cell_type": "code",
   "execution_count": 18,
   "metadata": {},
   "outputs": [],
   "source": [
    "# День недели - категориальный признак. Чтобы использовать его для модели линейной регрессии, применим one-hot кодирование\n",
    "df = pd.get_dummies(df, columns=['week_day'])"
   ]
  },
  {
   "cell_type": "code",
   "execution_count": 19,
   "metadata": {},
   "outputs": [
    {
     "data": {
      "text/html": [
       "<div>\n",
       "<style scoped>\n",
       "    .dataframe tbody tr th:only-of-type {\n",
       "        vertical-align: middle;\n",
       "    }\n",
       "\n",
       "    .dataframe tbody tr th {\n",
       "        vertical-align: top;\n",
       "    }\n",
       "\n",
       "    .dataframe thead th {\n",
       "        text-align: right;\n",
       "    }\n",
       "</style>\n",
       "<table border=\"1\" class=\"dataframe\">\n",
       "  <thead>\n",
       "    <tr style=\"text-align: right;\">\n",
       "      <th></th>\n",
       "      <th>name</th>\n",
       "      <th>quantity</th>\n",
       "      <th>price</th>\n",
       "      <th>day</th>\n",
       "      <th>bread</th>\n",
       "      <th>hotcake</th>\n",
       "      <th>milk_or_sour_milk</th>\n",
       "      <th>cheese_cottage_cheese</th>\n",
       "      <th>others</th>\n",
       "      <th>week_day_0</th>\n",
       "      <th>week_day_1</th>\n",
       "      <th>week_day_2</th>\n",
       "      <th>week_day_3</th>\n",
       "      <th>week_day_4</th>\n",
       "    </tr>\n",
       "  </thead>\n",
       "  <tbody>\n",
       "    <tr>\n",
       "      <th>1</th>\n",
       "      <td>Ацидофилин 2,7% 200г.ВМК БЗМЖ</td>\n",
       "      <td>4.0</td>\n",
       "      <td>2.46</td>\n",
       "      <td>2</td>\n",
       "      <td>0</td>\n",
       "      <td>0</td>\n",
       "      <td>1</td>\n",
       "      <td>0</td>\n",
       "      <td>0</td>\n",
       "      <td>1</td>\n",
       "      <td>0</td>\n",
       "      <td>0</td>\n",
       "      <td>0</td>\n",
       "      <td>0</td>\n",
       "    </tr>\n",
       "    <tr>\n",
       "      <th>2</th>\n",
       "      <td>Батон ГОРЧИЧНЫЙ 300 г. Хлебозавод №1 +</td>\n",
       "      <td>21.0</td>\n",
       "      <td>3.88</td>\n",
       "      <td>2</td>\n",
       "      <td>1</td>\n",
       "      <td>0</td>\n",
       "      <td>0</td>\n",
       "      <td>0</td>\n",
       "      <td>0</td>\n",
       "      <td>1</td>\n",
       "      <td>0</td>\n",
       "      <td>0</td>\n",
       "      <td>0</td>\n",
       "      <td>0</td>\n",
       "    </tr>\n",
       "    <tr>\n",
       "      <th>3</th>\n",
       "      <td>Батон Луковый 300г.Орион</td>\n",
       "      <td>2.0</td>\n",
       "      <td>5.96</td>\n",
       "      <td>2</td>\n",
       "      <td>1</td>\n",
       "      <td>0</td>\n",
       "      <td>0</td>\n",
       "      <td>0</td>\n",
       "      <td>0</td>\n",
       "      <td>1</td>\n",
       "      <td>0</td>\n",
       "      <td>0</td>\n",
       "      <td>0</td>\n",
       "      <td>0</td>\n",
       "    </tr>\n",
       "    <tr>\n",
       "      <th>4</th>\n",
       "      <td>Батон НАРЕЗНОЙ 400 г. Хлебозавод №1 +</td>\n",
       "      <td>41.0</td>\n",
       "      <td>4.70</td>\n",
       "      <td>2</td>\n",
       "      <td>1</td>\n",
       "      <td>0</td>\n",
       "      <td>0</td>\n",
       "      <td>0</td>\n",
       "      <td>0</td>\n",
       "      <td>1</td>\n",
       "      <td>0</td>\n",
       "      <td>0</td>\n",
       "      <td>0</td>\n",
       "      <td>0</td>\n",
       "    </tr>\n",
       "    <tr>\n",
       "      <th>5</th>\n",
       "      <td>Батон Нарезной 400г.Переславский х-д.</td>\n",
       "      <td>5.0</td>\n",
       "      <td>7.70</td>\n",
       "      <td>2</td>\n",
       "      <td>1</td>\n",
       "      <td>0</td>\n",
       "      <td>0</td>\n",
       "      <td>0</td>\n",
       "      <td>0</td>\n",
       "      <td>1</td>\n",
       "      <td>0</td>\n",
       "      <td>0</td>\n",
       "      <td>0</td>\n",
       "      <td>0</td>\n",
       "    </tr>\n",
       "  </tbody>\n",
       "</table>\n",
       "</div>"
      ],
      "text/plain": [
       "                                     name  quantity  price  day  bread  \\\n",
       "1           Ацидофилин 2,7% 200г.ВМК БЗМЖ       4.0   2.46    2      0   \n",
       "2  Батон ГОРЧИЧНЫЙ 300 г. Хлебозавод №1 +      21.0   3.88    2      1   \n",
       "3                Батон Луковый 300г.Орион       2.0   5.96    2      1   \n",
       "4   Батон НАРЕЗНОЙ 400 г. Хлебозавод №1 +      41.0   4.70    2      1   \n",
       "5   Батон Нарезной 400г.Переславский х-д.       5.0   7.70    2      1   \n",
       "\n",
       "   hotcake  milk_or_sour_milk  cheese_cottage_cheese  others  week_day_0  \\\n",
       "1        0                  1                      0       0           1   \n",
       "2        0                  0                      0       0           1   \n",
       "3        0                  0                      0       0           1   \n",
       "4        0                  0                      0       0           1   \n",
       "5        0                  0                      0       0           1   \n",
       "\n",
       "   week_day_1  week_day_2  week_day_3  week_day_4  \n",
       "1           0           0           0           0  \n",
       "2           0           0           0           0  \n",
       "3           0           0           0           0  \n",
       "4           0           0           0           0  \n",
       "5           0           0           0           0  "
      ]
     },
     "execution_count": 19,
     "metadata": {},
     "output_type": "execute_result"
    }
   ],
   "source": [
    "df.head()"
   ]
  },
  {
   "cell_type": "code",
   "execution_count": 20,
   "metadata": {},
   "outputs": [],
   "source": [
    "df.to_csv('data.csv', index=False)"
   ]
  },
  {
   "cell_type": "code",
   "execution_count": null,
   "metadata": {},
   "outputs": [],
   "source": []
  }
 ],
 "metadata": {
  "kernelspec": {
   "display_name": "Python 3",
   "language": "python",
   "name": "python3"
  },
  "language_info": {
   "codemirror_mode": {
    "name": "ipython",
    "version": 3
   },
   "file_extension": ".py",
   "mimetype": "text/x-python",
   "name": "python",
   "nbconvert_exporter": "python",
   "pygments_lexer": "ipython3",
   "version": "3.9.4"
  }
 },
 "nbformat": 4,
 "nbformat_minor": 4
}
